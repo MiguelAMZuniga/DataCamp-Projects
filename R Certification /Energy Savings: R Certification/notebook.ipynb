{
 "cells": [
  {
   "cell_type": "markdown",
   "metadata": {
    "dc": {
     "key": "4"
    },
    "deletable": false,
    "editable": false,
    "run_control": {
     "frozen": true
    },
    "tags": [
     "context"
    ]
   },
   "source": [
    "## Energy saved from recycling\n",
    "<p>Did you know that recycling saves energy by reducing or eliminating the need to make materials from scratch? For example, aluminum can manufacturers can skip the energy-costly process of producing aluminum from ore by cleaning and melting recycled cans. Aluminum is classified as a non-ferrous metal.</p>\n",
    "<p>Singapore has an ambitious goal of becoming a zero-waste nation. The amount of waste disposed of in Singapore has increased seven-fold over the last 40 years. At this rate, Semakau Landfill, Singapore’s only landfill, will run out of space by 2035. Making matters worse, Singapore has limited land for building new incineration plants or landfills.</p>\n",
    "<p>The government would like to motivate citizens by sharing the total energy that the combined recycling efforts have saved every year. They have asked you to help them.</p>\n",
    "<p>You have been provided with three datasets. The data come from different teams, so the names of waste types may differ.</p>\n",
    "<div style=\"background-color: #efebe4; color: #05192d; text-align:left; vertical-align: middle; padding: 15px 25px 15px 25px; line-height: 1.6;\">\n",
    "    <div style=\"font-size:16px\"><b>datasets/wastestats.csv - Recycling statistics per waste type for the period 2003 to 2017</b>\n",
    "    </div>\n",
    "Source: <a href=\"https://www.nea.gov.sg/our-services/waste-management/waste-statistics-and-overall-recycling\">Singapore National Environment Agency</a>\n",
    "<ul>\n",
    "    <li><b>waste_type: </b>The type of waste recycled.</li>\n",
    "    <li><b>waste_disposed_of_tonne: </b>The amount of waste that could not be recycled (in metric tonnes).</li>\n",
    "    <li><b>total_waste_recycle_tonne: </b>The amount of waste that could be recycled (in metric tonnes).</li>\n",
    "    <li><b>total_waste_generated: </b>The total amount of waste collected before recycling (in metric tonnes).</li>\n",
    "    <li><b>recycling_rate: </b>The amount of waste recycle per tonne of waste generated.</li>\n",
    "    <li><b>year: </b>The recycling year.</li>\n",
    "</ul>\n",
    "    </div>\n",
    "<div style=\"background-color: #efebe4; color: #05192d; text-align:left; vertical-align: middle; padding: 15px 25px 15px 25px; line-height: 1.6; margin-top: 17px;\">\n",
    "    <div style=\"font-size:16px\"><b>datasets/2018_2019_waste.csv - Recycling statistics per waste type for the period 2018 to 2019</b>\n",
    "    </div>\n",
    "Source: <a href=\"https://www.nea.gov.sg/our-services/waste-management/waste-statistics-and-overall-recycling\">Singapore National Environment Agency</a>\n",
    "<ul>\n",
    "    <li><b>Waste Type: </b>The type of waste recycled.</li>\n",
    "    <li><b>Total Generated: </b>The total amount of waste collected before recycling (in thousands of metric tonnes).</li> \n",
    "    <li><b>Total Recycled: </b>The amount of waste that could be recycled. (in thousands of metric tonnes).</li>\n",
    "    <li><b>Year: </b>The recycling year.</li>\n",
    "</ul>\n",
    "    </div>\n",
    "<p>\n",
    "<br></p>\n",
    "<div style=\"background-color: #efebe4; color: #05192d; text-align:left; vertical-align: middle; padding: 15px 25px 15px 25px; line-height: 1.6; margin-top: 17px;\">\n",
    "    <div style=\"font-size:16px\"><b>datasets/energy_saved.csv -  Estimations of the amount of energy saved per waste type in kWh</b>\n",
    "    </div>\n",
    "<ul>\n",
    "    <li><b>material: </b>The type of waste recycled.</li>\n",
    "    <li><b>energy_saved: </b>An estimate of the energy saved (in kiloWatt hour) by recycling a metric tonne of waste.</li> \n",
    "    <li><b>crude_oil_saved: </b>An estimate of the number of barrels of oil saved by recycling a metric tonne of waste.</li>\n",
    "</ul>\n",
    "\n",
    "</div>\n",
    "<pre><code>\n",
    "</code></pre>"
   ]
  },
  {
   "cell_type": "code",
   "execution_count": 14,
   "metadata": {
    "dc": {
     "key": "4"
    },
    "tags": [
     "sample_code"
    ]
   },
   "outputs": [
    {
     "name": "stderr",
     "output_type": "stream",
     "text": [
      "Warning message:\n",
      "“Missing column names filled in: 'X2' [2], 'X3' [3], 'X4' [4], 'X5' [5], 'X6' [6]”\n"
     ]
    }
   ],
   "source": [
    "# Use this cell to begin your analysis, and add as many as you would like!\n",
    "library(readr)\n",
    "library(dplyr)\n",
    "library(ggplot2)\n",
    "library(stringr)\n",
    "\n",
    "data_waste1 <- read_csv(\"datasets/wastestats.csv\",col_types = cols())\n",
    "\n",
    "data_waste2 <- read_csv(\"datasets/2018_2019_waste.csv\",col_types = cols())\n",
    "\n",
    "energy_saved <- read_csv(\"datasets/energy_saved.csv\",col_types = cols())\n"
   ]
  },
  {
   "cell_type": "code",
   "execution_count": 15,
   "metadata": {
    "dc": {
     "key": "4"
    }
   },
   "outputs": [
    {
     "data": {
      "text/html": [
       "<table class=\"dataframe\">\n",
       "<caption>A tibble: 6 × 6</caption>\n",
       "<thead>\n",
       "\t<tr><th scope=col>waste_type</th><th scope=col>waste_disposed_of_tonne</th><th scope=col>total_waste_recycled_tonne</th><th scope=col>total_waste_generated_tonne</th><th scope=col>recycling_rate</th><th scope=col>year</th></tr>\n",
       "\t<tr><th scope=col>&lt;chr&gt;</th><th scope=col>&lt;dbl&gt;</th><th scope=col>&lt;dbl&gt;</th><th scope=col>&lt;dbl&gt;</th><th scope=col>&lt;dbl&gt;</th><th scope=col>&lt;dbl&gt;</th></tr>\n",
       "</thead>\n",
       "<tbody>\n",
       "\t<tr><td>Food               </td><td>679900</td><td> 111100</td><td> 791000</td><td>0.14</td><td>2016</td></tr>\n",
       "\t<tr><td>Paper/Cardboard    </td><td>576000</td><td> 607100</td><td>1183100</td><td>0.51</td><td>2016</td></tr>\n",
       "\t<tr><td>Plastics           </td><td>762700</td><td>  59500</td><td> 822200</td><td>0.07</td><td>2016</td></tr>\n",
       "\t<tr><td><span style=white-space:pre-wrap>C&amp;D                </span></td><td><span style=white-space:pre-wrap>  9700</span></td><td>1585700</td><td>1595400</td><td>0.99</td><td>2016</td></tr>\n",
       "\t<tr><td>Horticultural waste</td><td>111500</td><td> 209000</td><td> 320500</td><td>0.65</td><td>2016</td></tr>\n",
       "\t<tr><td>Wood               </td><td>119100</td><td> 411600</td><td> 530700</td><td>0.78</td><td>2016</td></tr>\n",
       "</tbody>\n",
       "</table>\n"
      ],
      "text/latex": [
       "A tibble: 6 × 6\n",
       "\\begin{tabular}{llllll}\n",
       " waste\\_type & waste\\_disposed\\_of\\_tonne & total\\_waste\\_recycled\\_tonne & total\\_waste\\_generated\\_tonne & recycling\\_rate & year\\\\\n",
       " <chr> & <dbl> & <dbl> & <dbl> & <dbl> & <dbl>\\\\\n",
       "\\hline\n",
       "\t Food                & 679900 &  111100 &  791000 & 0.14 & 2016\\\\\n",
       "\t Paper/Cardboard     & 576000 &  607100 & 1183100 & 0.51 & 2016\\\\\n",
       "\t Plastics            & 762700 &   59500 &  822200 & 0.07 & 2016\\\\\n",
       "\t C\\&D                 &   9700 & 1585700 & 1595400 & 0.99 & 2016\\\\\n",
       "\t Horticultural waste & 111500 &  209000 &  320500 & 0.65 & 2016\\\\\n",
       "\t Wood                & 119100 &  411600 &  530700 & 0.78 & 2016\\\\\n",
       "\\end{tabular}\n"
      ],
      "text/markdown": [
       "\n",
       "A tibble: 6 × 6\n",
       "\n",
       "| waste_type &lt;chr&gt; | waste_disposed_of_tonne &lt;dbl&gt; | total_waste_recycled_tonne &lt;dbl&gt; | total_waste_generated_tonne &lt;dbl&gt; | recycling_rate &lt;dbl&gt; | year &lt;dbl&gt; |\n",
       "|---|---|---|---|---|---|\n",
       "| Food                | 679900 |  111100 |  791000 | 0.14 | 2016 |\n",
       "| Paper/Cardboard     | 576000 |  607100 | 1183100 | 0.51 | 2016 |\n",
       "| Plastics            | 762700 |   59500 |  822200 | 0.07 | 2016 |\n",
       "| C&amp;D                 |   9700 | 1585700 | 1595400 | 0.99 | 2016 |\n",
       "| Horticultural waste | 111500 |  209000 |  320500 | 0.65 | 2016 |\n",
       "| Wood                | 119100 |  411600 |  530700 | 0.78 | 2016 |\n",
       "\n"
      ],
      "text/plain": [
       "  waste_type          waste_disposed_of_tonne total_waste_recycled_tonne\n",
       "1 Food                679900                   111100                   \n",
       "2 Paper/Cardboard     576000                   607100                   \n",
       "3 Plastics            762700                    59500                   \n",
       "4 C&D                   9700                  1585700                   \n",
       "5 Horticultural waste 111500                   209000                   \n",
       "6 Wood                119100                   411600                   \n",
       "  total_waste_generated_tonne recycling_rate year\n",
       "1  791000                     0.14           2016\n",
       "2 1183100                     0.51           2016\n",
       "3  822200                     0.07           2016\n",
       "4 1595400                     0.99           2016\n",
       "5  320500                     0.65           2016\n",
       "6  530700                     0.78           2016"
      ]
     },
     "metadata": {},
     "output_type": "display_data"
    },
    {
     "data": {
      "text/html": [
       "<table class=\"dataframe\">\n",
       "<caption>A tibble: 6 × 4</caption>\n",
       "<thead>\n",
       "\t<tr><th scope=col>Waste Type</th><th scope=col>Total Generated ('000 tonnes)</th><th scope=col>Total Recycled ('000 tonnes)</th><th scope=col>Year</th></tr>\n",
       "\t<tr><th scope=col>&lt;chr&gt;</th><th scope=col>&lt;dbl&gt;</th><th scope=col>&lt;dbl&gt;</th><th scope=col>&lt;dbl&gt;</th></tr>\n",
       "</thead>\n",
       "<tbody>\n",
       "\t<tr><td>Construction&amp; Demolition</td><td>1440</td><td>1434</td><td>2019</td></tr>\n",
       "\t<tr><td>Ferrous Metal           </td><td>1278</td><td>1270</td><td>2019</td></tr>\n",
       "\t<tr><td>Paper/Cardboard         </td><td>1011</td><td> 449</td><td>2019</td></tr>\n",
       "\t<tr><td>Plastics                </td><td> 930</td><td>  37</td><td>2019</td></tr>\n",
       "\t<tr><td>Food                    </td><td>7440</td><td> 136</td><td>2019</td></tr>\n",
       "\t<tr><td>Wood                    </td><td> 438</td><td> 289</td><td>2019</td></tr>\n",
       "</tbody>\n",
       "</table>\n"
      ],
      "text/latex": [
       "A tibble: 6 × 4\n",
       "\\begin{tabular}{llll}\n",
       " Waste Type & Total Generated ('000 tonnes) & Total Recycled ('000 tonnes) & Year\\\\\n",
       " <chr> & <dbl> & <dbl> & <dbl>\\\\\n",
       "\\hline\n",
       "\t Construction\\& Demolition & 1440 & 1434 & 2019\\\\\n",
       "\t Ferrous Metal            & 1278 & 1270 & 2019\\\\\n",
       "\t Paper/Cardboard          & 1011 &  449 & 2019\\\\\n",
       "\t Plastics                 &  930 &   37 & 2019\\\\\n",
       "\t Food                     & 7440 &  136 & 2019\\\\\n",
       "\t Wood                     &  438 &  289 & 2019\\\\\n",
       "\\end{tabular}\n"
      ],
      "text/markdown": [
       "\n",
       "A tibble: 6 × 4\n",
       "\n",
       "| Waste Type &lt;chr&gt; | Total Generated ('000 tonnes) &lt;dbl&gt; | Total Recycled ('000 tonnes) &lt;dbl&gt; | Year &lt;dbl&gt; |\n",
       "|---|---|---|---|\n",
       "| Construction&amp; Demolition | 1440 | 1434 | 2019 |\n",
       "| Ferrous Metal            | 1278 | 1270 | 2019 |\n",
       "| Paper/Cardboard          | 1011 |  449 | 2019 |\n",
       "| Plastics                 |  930 |   37 | 2019 |\n",
       "| Food                     | 7440 |  136 | 2019 |\n",
       "| Wood                     |  438 |  289 | 2019 |\n",
       "\n"
      ],
      "text/plain": [
       "  Waste Type               Total Generated ('000 tonnes)\n",
       "1 Construction& Demolition 1440                         \n",
       "2 Ferrous Metal            1278                         \n",
       "3 Paper/Cardboard          1011                         \n",
       "4 Plastics                  930                         \n",
       "5 Food                     7440                         \n",
       "6 Wood                      438                         \n",
       "  Total Recycled ('000 tonnes) Year\n",
       "1 1434                         2019\n",
       "2 1270                         2019\n",
       "3  449                         2019\n",
       "4   37                         2019\n",
       "5  136                         2019\n",
       "6  289                         2019"
      ]
     },
     "metadata": {},
     "output_type": "display_data"
    },
    {
     "data": {
      "text/html": [
       "<table class=\"dataframe\">\n",
       "<caption>A tibble: 5 × 6</caption>\n",
       "<thead>\n",
       "\t<tr><th scope=col>The table gives the amount of energy saved in kilowatt hour (kWh) and the amount of crude oil (barrels) by recycling 1 metric tonne (1000 kilogram)  per waste type</th><th scope=col>X2</th><th scope=col>X3</th><th scope=col>X4</th><th scope=col>X5</th><th scope=col>X6</th></tr>\n",
       "\t<tr><th scope=col>&lt;chr&gt;</th><th scope=col>&lt;chr&gt;</th><th scope=col>&lt;chr&gt;</th><th scope=col>&lt;chr&gt;</th><th scope=col>&lt;chr&gt;</th><th scope=col>&lt;chr&gt;</th></tr>\n",
       "</thead>\n",
       "<tbody>\n",
       "\t<tr><td>1 barrel oil is approximately 159 litres of oil</td><td>NA        </td><td>NA    </td><td>NA           </td><td>NA               </td><td>NA         </td></tr>\n",
       "\t<tr><td>NA                                             </td><td>NA        </td><td>NA    </td><td>NA           </td><td>NA               </td><td>NA         </td></tr>\n",
       "\t<tr><td>material                                       </td><td>Plastic   </td><td>Glass </td><td>Ferrous Metal</td><td>Non-Ferrous Metal</td><td>Paper      </td></tr>\n",
       "\t<tr><td>energy_saved                                   </td><td>5774 Kwh  </td><td>42 Kwh</td><td>642 Kwh      </td><td>14000 Kwh        </td><td>4000 kWh   </td></tr>\n",
       "\t<tr><td>crude_oil saved                                </td><td>16 barrels</td><td>NA    </td><td>1.8 barrels  </td><td>40 barrels       </td><td>1.7 barrels</td></tr>\n",
       "</tbody>\n",
       "</table>\n"
      ],
      "text/latex": [
       "A tibble: 5 × 6\n",
       "\\begin{tabular}{llllll}\n",
       " The table gives the amount of energy saved in kilowatt hour (kWh) and the amount of crude oil (barrels) by recycling 1 metric tonne (1000 kilogram)  per waste type & X2 & X3 & X4 & X5 & X6\\\\\n",
       " <chr> & <chr> & <chr> & <chr> & <chr> & <chr>\\\\\n",
       "\\hline\n",
       "\t 1 barrel oil is approximately 159 litres of oil & NA         & NA     & NA            & NA                & NA         \\\\\n",
       "\t NA                                              & NA         & NA     & NA            & NA                & NA         \\\\\n",
       "\t material                                        & Plastic    & Glass  & Ferrous Metal & Non-Ferrous Metal & Paper      \\\\\n",
       "\t energy\\_saved                                    & 5774 Kwh   & 42 Kwh & 642 Kwh       & 14000 Kwh         & 4000 kWh   \\\\\n",
       "\t crude\\_oil saved                                 & 16 barrels & NA     & 1.8 barrels   & 40 barrels        & 1.7 barrels\\\\\n",
       "\\end{tabular}\n"
      ],
      "text/markdown": [
       "\n",
       "A tibble: 5 × 6\n",
       "\n",
       "| The table gives the amount of energy saved in kilowatt hour (kWh) and the amount of crude oil (barrels) by recycling 1 metric tonne (1000 kilogram)  per waste type &lt;chr&gt; | X2 &lt;chr&gt; | X3 &lt;chr&gt; | X4 &lt;chr&gt; | X5 &lt;chr&gt; | X6 &lt;chr&gt; |\n",
       "|---|---|---|---|---|---|\n",
       "| 1 barrel oil is approximately 159 litres of oil | NA         | NA     | NA            | NA                | NA          |\n",
       "| NA                                              | NA         | NA     | NA            | NA                | NA          |\n",
       "| material                                        | Plastic    | Glass  | Ferrous Metal | Non-Ferrous Metal | Paper       |\n",
       "| energy_saved                                    | 5774 Kwh   | 42 Kwh | 642 Kwh       | 14000 Kwh         | 4000 kWh    |\n",
       "| crude_oil saved                                 | 16 barrels | NA     | 1.8 barrels   | 40 barrels        | 1.7 barrels |\n",
       "\n"
      ],
      "text/plain": [
       "  The table gives the amount of energy saved in kilowatt hour (kWh) and the amount of crude oil (barrels) by recycling 1 metric tonne (1000 kilogram)  per waste type\n",
       "1 1 barrel oil is approximately 159 litres of oil                                                                                                                    \n",
       "2 NA                                                                                                                                                                 \n",
       "3 material                                                                                                                                                           \n",
       "4 energy_saved                                                                                                                                                       \n",
       "5 crude_oil saved                                                                                                                                                    \n",
       "  X2         X3     X4            X5                X6         \n",
       "1 NA         NA     NA            NA                NA         \n",
       "2 NA         NA     NA            NA                NA         \n",
       "3 Plastic    Glass  Ferrous Metal Non-Ferrous Metal Paper      \n",
       "4 5774 Kwh   42 Kwh 642 Kwh       14000 Kwh         4000 kWh   \n",
       "5 16 barrels NA     1.8 barrels   40 barrels        1.7 barrels"
      ]
     },
     "metadata": {},
     "output_type": "display_data"
    }
   ],
   "source": [
    "head(data_waste1)\n",
    "head(data_waste2)\n",
    "head(energy_saved)\n"
   ]
  },
  {
   "cell_type": "code",
   "execution_count": 16,
   "metadata": {
    "dc": {
     "key": "4"
    }
   },
   "outputs": [
    {
     "data": {
      "text/html": [
       "<style>\n",
       ".list-inline {list-style: none; margin:0; padding: 0}\n",
       ".list-inline>li {display: inline-block}\n",
       ".list-inline>li:not(:last-child)::after {content: \"\\00b7\"; padding: 0 .5ex}\n",
       "</style>\n",
       "<ol class=list-inline><li>'Food'</li><li>'Paper/Cardboard'</li><li>'Plastic'</li><li>'C&amp;D'</li><li>'Horticultural waste'</li><li>'Wood'</li><li>'Ferrous Metal'</li><li>'Non-ferrous Metal'</li><li>'Used slag'</li><li>'Ash &amp; Sludge'</li><li>'Glass'</li><li>'Textile/Leather'</li><li>'Scrap tyres'</li><li>'Others (stones, ceramics &amp; rubber etc.)'</li><li>'Total'</li><li>'Others (stones, ceramics &amp; rubber etc)'</li><li>'Food waste'</li><li>'Construction Debris'</li><li>'Wood/Timber'</li><li>'Horticultural Waste'</li><li>'Used Slag'</li><li>'Sludge'</li><li>'Scrap Tyres'</li><li>'Others'</li><li>'Construction debris'</li><li>'Ash and sludge'</li><li>'Others (stones, ceramic, rubber, etc.)'</li><li>'Construction&amp; Demolition'</li><li>'Horticultural'</li><li>'Others (stones, ceramic, rubber, ect)'</li><li>'Overall'</li></ol>\n"
      ],
      "text/latex": [
       "\\begin{enumerate*}\n",
       "\\item 'Food'\n",
       "\\item 'Paper/Cardboard'\n",
       "\\item 'Plastic'\n",
       "\\item 'C\\&D'\n",
       "\\item 'Horticultural waste'\n",
       "\\item 'Wood'\n",
       "\\item 'Ferrous Metal'\n",
       "\\item 'Non-ferrous Metal'\n",
       "\\item 'Used slag'\n",
       "\\item 'Ash \\& Sludge'\n",
       "\\item 'Glass'\n",
       "\\item 'Textile/Leather'\n",
       "\\item 'Scrap tyres'\n",
       "\\item 'Others (stones, ceramics \\& rubber etc.)'\n",
       "\\item 'Total'\n",
       "\\item 'Others (stones, ceramics \\& rubber etc)'\n",
       "\\item 'Food waste'\n",
       "\\item 'Construction Debris'\n",
       "\\item 'Wood/Timber'\n",
       "\\item 'Horticultural Waste'\n",
       "\\item 'Used Slag'\n",
       "\\item 'Sludge'\n",
       "\\item 'Scrap Tyres'\n",
       "\\item 'Others'\n",
       "\\item 'Construction debris'\n",
       "\\item 'Ash and sludge'\n",
       "\\item 'Others (stones, ceramic, rubber, etc.)'\n",
       "\\item 'Construction\\& Demolition'\n",
       "\\item 'Horticultural'\n",
       "\\item 'Others (stones, ceramic, rubber, ect)'\n",
       "\\item 'Overall'\n",
       "\\end{enumerate*}\n"
      ],
      "text/markdown": [
       "1. 'Food'\n",
       "2. 'Paper/Cardboard'\n",
       "3. 'Plastic'\n",
       "4. 'C&amp;D'\n",
       "5. 'Horticultural waste'\n",
       "6. 'Wood'\n",
       "7. 'Ferrous Metal'\n",
       "8. 'Non-ferrous Metal'\n",
       "9. 'Used slag'\n",
       "10. 'Ash &amp; Sludge'\n",
       "11. 'Glass'\n",
       "12. 'Textile/Leather'\n",
       "13. 'Scrap tyres'\n",
       "14. 'Others (stones, ceramics &amp; rubber etc.)'\n",
       "15. 'Total'\n",
       "16. 'Others (stones, ceramics &amp; rubber etc)'\n",
       "17. 'Food waste'\n",
       "18. 'Construction Debris'\n",
       "19. 'Wood/Timber'\n",
       "20. 'Horticultural Waste'\n",
       "21. 'Used Slag'\n",
       "22. 'Sludge'\n",
       "23. 'Scrap Tyres'\n",
       "24. 'Others'\n",
       "25. 'Construction debris'\n",
       "26. 'Ash and sludge'\n",
       "27. 'Others (stones, ceramic, rubber, etc.)'\n",
       "28. 'Construction&amp; Demolition'\n",
       "29. 'Horticultural'\n",
       "30. 'Others (stones, ceramic, rubber, ect)'\n",
       "31. 'Overall'\n",
       "\n",
       "\n"
      ],
      "text/plain": [
       " [1] \"Food\"                                   \n",
       " [2] \"Paper/Cardboard\"                        \n",
       " [3] \"Plastic\"                                \n",
       " [4] \"C&D\"                                    \n",
       " [5] \"Horticultural waste\"                    \n",
       " [6] \"Wood\"                                   \n",
       " [7] \"Ferrous Metal\"                          \n",
       " [8] \"Non-ferrous Metal\"                      \n",
       " [9] \"Used slag\"                              \n",
       "[10] \"Ash & Sludge\"                           \n",
       "[11] \"Glass\"                                  \n",
       "[12] \"Textile/Leather\"                        \n",
       "[13] \"Scrap tyres\"                            \n",
       "[14] \"Others (stones, ceramics & rubber etc.)\"\n",
       "[15] \"Total\"                                  \n",
       "[16] \"Others (stones, ceramics & rubber etc)\" \n",
       "[17] \"Food waste\"                             \n",
       "[18] \"Construction Debris\"                    \n",
       "[19] \"Wood/Timber\"                            \n",
       "[20] \"Horticultural Waste\"                    \n",
       "[21] \"Used Slag\"                              \n",
       "[22] \"Sludge\"                                 \n",
       "[23] \"Scrap Tyres\"                            \n",
       "[24] \"Others\"                                 \n",
       "[25] \"Construction debris\"                    \n",
       "[26] \"Ash and sludge\"                         \n",
       "[27] \"Others (stones, ceramic, rubber, etc.)\" \n",
       "[28] \"Construction& Demolition\"               \n",
       "[29] \"Horticultural\"                          \n",
       "[30] \"Others (stones, ceramic, rubber, ect)\"  \n",
       "[31] \"Overall\"                                "
      ]
     },
     "metadata": {},
     "output_type": "display_data"
    }
   ],
   "source": [
    "#Clean datasets\n",
    "#select columns and reorder dataset 1\n",
    "clean_waste1 <- data_waste1 %>%\n",
    "                    select(waste_type, total_waste_generated_tonne, total_waste_recycled_tonne, year) \n",
    "\n",
    "#Change colnames of dataset 2 and mutate columns as tonnes in thousand Kg\n",
    "colnames(data_waste2) <- c(\"waste_type\", \"total_waste_generated_tonne\", \"total_waste_recycled_tonne\", \"year\")\n",
    "\n",
    "clean_waste2 <-  data_waste2 %>%\n",
    "                    mutate(total_waste_generated_tonne = total_waste_generated_tonne *1000,\n",
    "                           total_waste_recycled_tonne = total_waste_recycled_tonne *1000)\n",
    "#Create a dataset with rbind and clean data \n",
    "\n",
    "energy_savings <- rbind(clean_waste1,clean_waste2)\n",
    "\n",
    "#Replace values in waste_type column\n",
    "energy_savings$waste_type <- str_replace(energy_savings$waste_type, \"Ferrous metal\", \"Ferrous Metal\")\n",
    "energy_savings$waste_type <- str_replace(energy_savings$waste_type, \"Non-ferrous metal\", \"Non-ferrous Metal\")\n",
    "energy_savings$waste_type <- str_replace(energy_savings$waste_type, \"Non-ferrous Metals\", \"Non-ferrous Metal\")\n",
    "energy_savings$waste_type <- str_replace(energy_savings$waste_type, \"Non-Ferrous Metal\", \"Non-ferrous Metal\")\n",
    "energy_savings$waste_type <- str_replace(energy_savings$waste_type, \"Ferrous Metals\", \"Ferrous Metal\")\n",
    "energy_savings$waste_type <- str_replace(energy_savings$waste_type, \"Non-ferrous metals\", \"Non-ferrous Metal\")\n",
    "energy_savings$waste_type <- str_replace(energy_savings$waste_type, \"Plastics\", \"Plastic\")\n",
    "                        \n",
    "unique(energy_savings$waste_type)"
   ]
  },
  {
   "cell_type": "code",
   "execution_count": 17,
   "metadata": {
    "dc": {
     "key": "4"
    },
    "scrolled": true
   },
   "outputs": [
    {
     "data": {
      "text/html": [
       "<table class=\"dataframe\">\n",
       "<caption>A grouped_df: 4 × 5</caption>\n",
       "<thead>\n",
       "\t<tr><th scope=col>waste_type</th><th scope=col>total_waste_generated_tonne</th><th scope=col>total_waste_recycled_tonne</th><th scope=col>year</th><th scope=col>total_energy_saved</th></tr>\n",
       "\t<tr><th scope=col>&lt;chr&gt;</th><th scope=col>&lt;dbl&gt;</th><th scope=col>&lt;dbl&gt;</th><th scope=col>&lt;dbl&gt;</th><th scope=col>&lt;dbl&gt;</th></tr>\n",
       "</thead>\n",
       "<tbody>\n",
       "\t<tr><td>Ferrous Metal    </td><td>1278000</td><td>1270000</td><td>2019</td><td> 815340000</td></tr>\n",
       "\t<tr><td>Plastic          </td><td> 930000</td><td>  37000</td><td>2019</td><td> 213638000</td></tr>\n",
       "\t<tr><td>Non-ferrous Metal</td><td> 126000</td><td> 124000</td><td>2019</td><td>1736000000</td></tr>\n",
       "\t<tr><td>Glass            </td><td>  75000</td><td>  11000</td><td>2019</td><td>    462000</td></tr>\n",
       "</tbody>\n",
       "</table>\n"
      ],
      "text/latex": [
       "A grouped\\_df: 4 × 5\n",
       "\\begin{tabular}{lllll}\n",
       " waste\\_type & total\\_waste\\_generated\\_tonne & total\\_waste\\_recycled\\_tonne & year & total\\_energy\\_saved\\\\\n",
       " <chr> & <dbl> & <dbl> & <dbl> & <dbl>\\\\\n",
       "\\hline\n",
       "\t Ferrous Metal     & 1278000 & 1270000 & 2019 &  815340000\\\\\n",
       "\t Plastic           &  930000 &   37000 & 2019 &  213638000\\\\\n",
       "\t Non-ferrous Metal &  126000 &  124000 & 2019 & 1736000000\\\\\n",
       "\t Glass             &   75000 &   11000 & 2019 &     462000\\\\\n",
       "\\end{tabular}\n"
      ],
      "text/markdown": [
       "\n",
       "A grouped_df: 4 × 5\n",
       "\n",
       "| waste_type &lt;chr&gt; | total_waste_generated_tonne &lt;dbl&gt; | total_waste_recycled_tonne &lt;dbl&gt; | year &lt;dbl&gt; | total_energy_saved &lt;dbl&gt; |\n",
       "|---|---|---|---|---|\n",
       "| Ferrous Metal     | 1278000 | 1270000 | 2019 |  815340000 |\n",
       "| Plastic           |  930000 |   37000 | 2019 |  213638000 |\n",
       "| Non-ferrous Metal |  126000 |  124000 | 2019 | 1736000000 |\n",
       "| Glass             |   75000 |   11000 | 2019 |     462000 |\n",
       "\n"
      ],
      "text/plain": [
       "  waste_type        total_waste_generated_tonne total_waste_recycled_tonne year\n",
       "1 Ferrous Metal     1278000                     1270000                    2019\n",
       "2 Plastic            930000                       37000                    2019\n",
       "3 Non-ferrous Metal  126000                      124000                    2019\n",
       "4 Glass               75000                       11000                    2019\n",
       "  total_energy_saved\n",
       "1  815340000        \n",
       "2  213638000        \n",
       "3 1736000000        \n",
       "4     462000        "
      ]
     },
     "metadata": {},
     "output_type": "display_data"
    }
   ],
   "source": [
    "#Annula energy savings recycling glass, plastic, ferrous and non-ferrous metals\n",
    "#by year in the period 2015-2019\n",
    "waste_typesQuestion <- c('Plastic','Glass','Ferrous Metal','Non-ferrous Metal')\n",
    "\n",
    "\n",
    "annual_energy_savings <- energy_savings %>%\n",
    "         filter(year == 2019, \n",
    "                waste_type %in% waste_typesQuestion)%>%\n",
    "        mutate(total_energy_saved = case_when(waste_type == \"Plastic\" ~ total_waste_recycled_tonne*5774,\n",
    "                                              waste_type == \"Glass\" ~ total_waste_recycled_tonne*42,\n",
    "                                              waste_type == \"Ferrous Metal\" ~ total_waste_recycled_tonne*642,\n",
    "                                              waste_type == \"Non-ferrous Metal\" ~ total_waste_recycled_tonne*14000))%>%\n",
    "        group_by(year)\n",
    "\n",
    "annual_energy_savings"
   ]
  },
  {
   "cell_type": "code",
   "execution_count": 18,
   "metadata": {
    "dc": {
     "key": "4"
    }
   },
   "outputs": [
    {
     "data": {
      "text/html": [
       "<table class=\"dataframe\">\n",
       "<caption>A data.frame: 5 × 2</caption>\n",
       "<thead>\n",
       "\t<tr><th scope=col>year</th><th scope=col>total_energy_saved</th></tr>\n",
       "\t<tr><th scope=col>&lt;dbl&gt;</th><th scope=col>&lt;dbl&gt;</th></tr>\n",
       "</thead>\n",
       "<tbody>\n",
       "\t<tr><td>2015</td><td>3435929000</td></tr>\n",
       "\t<tr><td>2016</td><td>2554433400</td></tr>\n",
       "\t<tr><td>2017</td><td>2470596000</td></tr>\n",
       "\t<tr><td>2018</td><td>2698130000</td></tr>\n",
       "\t<tr><td>2019</td><td>2765440000</td></tr>\n",
       "</tbody>\n",
       "</table>\n"
      ],
      "text/latex": [
       "A data.frame: 5 × 2\n",
       "\\begin{tabular}{ll}\n",
       " year & total\\_energy\\_saved\\\\\n",
       " <dbl> & <dbl>\\\\\n",
       "\\hline\n",
       "\t 2015 & 3435929000\\\\\n",
       "\t 2016 & 2554433400\\\\\n",
       "\t 2017 & 2470596000\\\\\n",
       "\t 2018 & 2698130000\\\\\n",
       "\t 2019 & 2765440000\\\\\n",
       "\\end{tabular}\n"
      ],
      "text/markdown": [
       "\n",
       "A data.frame: 5 × 2\n",
       "\n",
       "| year &lt;dbl&gt; | total_energy_saved &lt;dbl&gt; |\n",
       "|---|---|\n",
       "| 2015 | 3435929000 |\n",
       "| 2016 | 2554433400 |\n",
       "| 2017 | 2470596000 |\n",
       "| 2018 | 2698130000 |\n",
       "| 2019 | 2765440000 |\n",
       "\n"
      ],
      "text/plain": [
       "  year total_energy_saved\n",
       "1 2015 3435929000        \n",
       "2 2016 2554433400        \n",
       "3 2017 2470596000        \n",
       "4 2018 2698130000        \n",
       "5 2019 2765440000        "
      ]
     },
     "metadata": {},
     "output_type": "display_data"
    }
   ],
   "source": [
    "annual_energy_savings <- energy_savings %>%\n",
    "         filter(year >= 2015, \n",
    "                waste_type %in% waste_typesQuestion)%>%\n",
    "        group_by(year)%>%\n",
    "        mutate(total_energy_saved_1 = case_when(waste_type == \"Plastic\" ~ total_waste_recycled_tonne*5774,\n",
    "                                              waste_type == \"Glass\" ~ total_waste_recycled_tonne*42,\n",
    "                                              waste_type == \"Ferrous Metal\" ~ total_waste_recycled_tonne*642,\n",
    "                                              waste_type == \"Non-ferrous Metal\" ~ total_waste_recycled_tonne*14000))%>%\n",
    "            summarise(total_energy_saved = sum(total_energy_saved_1))%>%\n",
    "            as.data.frame()\n",
    "        \n",
    "annual_energy_savings"
   ]
  }
 ],
 "metadata": {
  "kernelspec": {
   "display_name": "R",
   "language": "R",
   "name": "ir"
  },
  "language_info": {
   "codemirror_mode": "r",
   "file_extension": ".r",
   "mimetype": "text/x-r-source",
   "name": "R",
   "pygments_lexer": "r",
   "version": "4.1.2"
  }
 },
 "nbformat": 4,
 "nbformat_minor": 2
}
